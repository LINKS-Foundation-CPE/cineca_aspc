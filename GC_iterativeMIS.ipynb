{
 "cells": [
  {
   "cell_type": "code",
   "execution_count": 3,
   "metadata": {},
   "outputs": [],
   "source": [
    "import networkx as nx\n",
    "import pulser\n",
    "import numpy"
   ]
  },
  {
   "cell_type": "markdown",
   "metadata": {},
   "source": [
    "## PCI graph coloring problem\n",
    "Start from an initial graph G=(V,E), whose vertexes' positions are given. The conflicts between vertexes correspond to conflicts between antennas, the maximum distance at which a conflict can appear is set to 300km.\n",
    "The straightforwad embedding on the Pasqal machine is obtained through scaling the initial positions into a circle of radius 50 μm"
   ]
  },
  {
   "cell_type": "code",
   "execution_count": null,
   "metadata": {},
   "outputs": [],
   "source": []
  },
  {
   "cell_type": "markdown",
   "metadata": {},
   "source": [
    "## Greedy-itMIS"
   ]
  },
  {
   "cell_type": "markdown",
   "metadata": {},
   "source": [
    "## BB-itMIS"
   ]
  }
 ],
 "metadata": {
  "interpreter": {
   "hash": "21deb1973a4ebb1a0cdab00f559e1c4e312d74acf4127f95320ff9d6d138a0fc"
  },
  "kernelspec": {
   "display_name": "Python 3.9.2 64-bit",
   "language": "python",
   "name": "python3"
  },
  "language_info": {
   "codemirror_mode": {
    "name": "ipython",
    "version": 3
   },
   "file_extension": ".py",
   "mimetype": "text/x-python",
   "name": "python",
   "nbconvert_exporter": "python",
   "pygments_lexer": "ipython3",
   "version": "3.9.2"
  },
  "orig_nbformat": 4
 },
 "nbformat": 4,
 "nbformat_minor": 2
}
